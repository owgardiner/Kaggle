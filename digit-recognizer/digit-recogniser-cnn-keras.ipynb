{
 "cells": [
  {
   "cell_type": "code",
   "execution_count": 1,
   "metadata": {
    "_cell_guid": "b1076dfc-b9ad-4769-8c92-a6c4dae69d19",
    "_uuid": "8f2839f25d086af736a60e9eeb907d3b93b6e0e5",
    "execution": {
     "iopub.execute_input": "2020-09-20T14:58:13.983561Z",
     "iopub.status.busy": "2020-09-20T14:58:13.982617Z",
     "iopub.status.idle": "2020-09-20T14:58:15.088309Z",
     "shell.execute_reply": "2020-09-20T14:58:15.087678Z"
    },
    "papermill": {
     "duration": 1.141538,
     "end_time": "2020-09-20T14:58:15.088448",
     "exception": false,
     "start_time": "2020-09-20T14:58:13.946910",
     "status": "completed"
    },
    "tags": []
   },
   "outputs": [
    {
     "name": "stdout",
     "output_type": "stream",
     "text": [
      "/kaggle/input/digit-recognizer/sample_submission.csv\n",
      "/kaggle/input/digit-recognizer/test.csv\n",
      "/kaggle/input/digit-recognizer/train.csv\n"
     ]
    }
   ],
   "source": [
    "# This Python 3 environment comes with many helpful analytics libraries installed\n",
    "# It is defined by the kaggle/python Docker image: https://github.com/kaggle/docker-python\n",
    "# For example, here's several helpful packages to load\n",
    "\n",
    "import cv2\n",
    "import numpy as np # linear algebra\n",
    "import pandas as pd # data processing, CSV file I/O (e.g. pd.read_csv)\n",
    "from matplotlib import pyplot as plt\n",
    "\n",
    "# Input data files are available in the read-only \"../input/\" directory\n",
    "# For example, running this (by clicking run or pressing Shift+Enter) will list all files under the input directory\n",
    "\n",
    "import plotly.graph_objs as go\n",
    "import plotly.tools as tls\n",
    "import seaborn as sns\n",
    "import matplotlib.image as mpimg\n",
    "import matplotlib.pyplot as plt\n",
    "import matplotlib\n",
    "%matplotlib inline\n",
    "\n",
    "\n",
    "import os\n",
    "for dirname, _, filenames in os.walk('/kaggle/input'):\n",
    "    for filename in filenames:\n",
    "        print(os.path.join(dirname, filename))\n",
    "\n",
    "# You can write up to 5GB to the current directory (/kaggle/working/) that gets preserved as output when you create a version using \"Save & Run All\" \n",
    "# You can also write temporary files to /kaggle/temp/, but they won't be saved outside of the current session"
   ]
  },
  {
   "cell_type": "markdown",
   "metadata": {
    "papermill": {
     "duration": 0.022907,
     "end_time": "2020-09-20T14:58:15.135849",
     "exception": false,
     "start_time": "2020-09-20T14:58:15.112942",
     "status": "completed"
    },
    "tags": []
   },
   "source": [
    "# **Digit Recogniser Using CNN (Keras)**\n",
    "\n",
    "Just a simple digit recogniser made using Keras. Nothing too exciting, just a bit of a play around. I will list the online resources I used here:\n",
    "\n",
    "- https://www.kaggle.com/poonaml/deep-neural-network-keras-way\n",
    "- https://www.kaggle.com/indronil2489/digit-recognizer-using-neural-networks\n",
    "- https://www.sitepoint.com/keras-digit-recognition-tutorial/"
   ]
  },
  {
   "cell_type": "markdown",
   "metadata": {
    "papermill": {
     "duration": 0.025051,
     "end_time": "2020-09-20T14:58:15.185339",
     "exception": false,
     "start_time": "2020-09-20T14:58:15.160288",
     "status": "completed"
    },
    "tags": []
   },
   "source": [
    "# Loading in the data"
   ]
  },
  {
   "cell_type": "code",
   "execution_count": 2,
   "metadata": {
    "_cell_guid": "79c7e3d0-c299-4dcb-8224-4455121ee9b0",
    "_uuid": "d629ff2d2480ee46fbb7e2d37f6b5fab8052498a",
    "execution": {
     "iopub.execute_input": "2020-09-20T14:58:15.237891Z",
     "iopub.status.busy": "2020-09-20T14:58:15.237011Z",
     "iopub.status.idle": "2020-09-20T14:58:17.997574Z",
     "shell.execute_reply": "2020-09-20T14:58:17.996557Z"
    },
    "papermill": {
     "duration": 2.788326,
     "end_time": "2020-09-20T14:58:17.997690",
     "exception": false,
     "start_time": "2020-09-20T14:58:15.209364",
     "status": "completed"
    },
    "tags": []
   },
   "outputs": [
    {
     "data": {
      "text/html": [
       "<div>\n",
       "<style scoped>\n",
       "    .dataframe tbody tr th:only-of-type {\n",
       "        vertical-align: middle;\n",
       "    }\n",
       "\n",
       "    .dataframe tbody tr th {\n",
       "        vertical-align: top;\n",
       "    }\n",
       "\n",
       "    .dataframe thead th {\n",
       "        text-align: right;\n",
       "    }\n",
       "</style>\n",
       "<table border=\"1\" class=\"dataframe\">\n",
       "  <thead>\n",
       "    <tr style=\"text-align: right;\">\n",
       "      <th></th>\n",
       "      <th>label</th>\n",
       "      <th>pixel0</th>\n",
       "      <th>pixel1</th>\n",
       "      <th>pixel2</th>\n",
       "      <th>pixel3</th>\n",
       "      <th>pixel4</th>\n",
       "      <th>pixel5</th>\n",
       "      <th>pixel6</th>\n",
       "      <th>pixel7</th>\n",
       "      <th>pixel8</th>\n",
       "      <th>...</th>\n",
       "      <th>pixel774</th>\n",
       "      <th>pixel775</th>\n",
       "      <th>pixel776</th>\n",
       "      <th>pixel777</th>\n",
       "      <th>pixel778</th>\n",
       "      <th>pixel779</th>\n",
       "      <th>pixel780</th>\n",
       "      <th>pixel781</th>\n",
       "      <th>pixel782</th>\n",
       "      <th>pixel783</th>\n",
       "    </tr>\n",
       "  </thead>\n",
       "  <tbody>\n",
       "    <tr>\n",
       "      <th>0</th>\n",
       "      <td>1</td>\n",
       "      <td>0</td>\n",
       "      <td>0</td>\n",
       "      <td>0</td>\n",
       "      <td>0</td>\n",
       "      <td>0</td>\n",
       "      <td>0</td>\n",
       "      <td>0</td>\n",
       "      <td>0</td>\n",
       "      <td>0</td>\n",
       "      <td>...</td>\n",
       "      <td>0</td>\n",
       "      <td>0</td>\n",
       "      <td>0</td>\n",
       "      <td>0</td>\n",
       "      <td>0</td>\n",
       "      <td>0</td>\n",
       "      <td>0</td>\n",
       "      <td>0</td>\n",
       "      <td>0</td>\n",
       "      <td>0</td>\n",
       "    </tr>\n",
       "    <tr>\n",
       "      <th>1</th>\n",
       "      <td>0</td>\n",
       "      <td>0</td>\n",
       "      <td>0</td>\n",
       "      <td>0</td>\n",
       "      <td>0</td>\n",
       "      <td>0</td>\n",
       "      <td>0</td>\n",
       "      <td>0</td>\n",
       "      <td>0</td>\n",
       "      <td>0</td>\n",
       "      <td>...</td>\n",
       "      <td>0</td>\n",
       "      <td>0</td>\n",
       "      <td>0</td>\n",
       "      <td>0</td>\n",
       "      <td>0</td>\n",
       "      <td>0</td>\n",
       "      <td>0</td>\n",
       "      <td>0</td>\n",
       "      <td>0</td>\n",
       "      <td>0</td>\n",
       "    </tr>\n",
       "    <tr>\n",
       "      <th>2</th>\n",
       "      <td>1</td>\n",
       "      <td>0</td>\n",
       "      <td>0</td>\n",
       "      <td>0</td>\n",
       "      <td>0</td>\n",
       "      <td>0</td>\n",
       "      <td>0</td>\n",
       "      <td>0</td>\n",
       "      <td>0</td>\n",
       "      <td>0</td>\n",
       "      <td>...</td>\n",
       "      <td>0</td>\n",
       "      <td>0</td>\n",
       "      <td>0</td>\n",
       "      <td>0</td>\n",
       "      <td>0</td>\n",
       "      <td>0</td>\n",
       "      <td>0</td>\n",
       "      <td>0</td>\n",
       "      <td>0</td>\n",
       "      <td>0</td>\n",
       "    </tr>\n",
       "    <tr>\n",
       "      <th>3</th>\n",
       "      <td>4</td>\n",
       "      <td>0</td>\n",
       "      <td>0</td>\n",
       "      <td>0</td>\n",
       "      <td>0</td>\n",
       "      <td>0</td>\n",
       "      <td>0</td>\n",
       "      <td>0</td>\n",
       "      <td>0</td>\n",
       "      <td>0</td>\n",
       "      <td>...</td>\n",
       "      <td>0</td>\n",
       "      <td>0</td>\n",
       "      <td>0</td>\n",
       "      <td>0</td>\n",
       "      <td>0</td>\n",
       "      <td>0</td>\n",
       "      <td>0</td>\n",
       "      <td>0</td>\n",
       "      <td>0</td>\n",
       "      <td>0</td>\n",
       "    </tr>\n",
       "    <tr>\n",
       "      <th>4</th>\n",
       "      <td>0</td>\n",
       "      <td>0</td>\n",
       "      <td>0</td>\n",
       "      <td>0</td>\n",
       "      <td>0</td>\n",
       "      <td>0</td>\n",
       "      <td>0</td>\n",
       "      <td>0</td>\n",
       "      <td>0</td>\n",
       "      <td>0</td>\n",
       "      <td>...</td>\n",
       "      <td>0</td>\n",
       "      <td>0</td>\n",
       "      <td>0</td>\n",
       "      <td>0</td>\n",
       "      <td>0</td>\n",
       "      <td>0</td>\n",
       "      <td>0</td>\n",
       "      <td>0</td>\n",
       "      <td>0</td>\n",
       "      <td>0</td>\n",
       "    </tr>\n",
       "  </tbody>\n",
       "</table>\n",
       "<p>5 rows × 785 columns</p>\n",
       "</div>"
      ],
      "text/plain": [
       "   label  pixel0  pixel1  pixel2  pixel3  pixel4  pixel5  pixel6  pixel7  \\\n",
       "0      1       0       0       0       0       0       0       0       0   \n",
       "1      0       0       0       0       0       0       0       0       0   \n",
       "2      1       0       0       0       0       0       0       0       0   \n",
       "3      4       0       0       0       0       0       0       0       0   \n",
       "4      0       0       0       0       0       0       0       0       0   \n",
       "\n",
       "   pixel8  ...  pixel774  pixel775  pixel776  pixel777  pixel778  pixel779  \\\n",
       "0       0  ...         0         0         0         0         0         0   \n",
       "1       0  ...         0         0         0         0         0         0   \n",
       "2       0  ...         0         0         0         0         0         0   \n",
       "3       0  ...         0         0         0         0         0         0   \n",
       "4       0  ...         0         0         0         0         0         0   \n",
       "\n",
       "   pixel780  pixel781  pixel782  pixel783  \n",
       "0         0         0         0         0  \n",
       "1         0         0         0         0  \n",
       "2         0         0         0         0  \n",
       "3         0         0         0         0  \n",
       "4         0         0         0         0  \n",
       "\n",
       "[5 rows x 785 columns]"
      ]
     },
     "execution_count": 2,
     "metadata": {},
     "output_type": "execute_result"
    }
   ],
   "source": [
    "#The first thing to do is to read in training data\n",
    "\n",
    "train_data = pd.read_csv('train.csv')\n",
    "\n",
    "#will show us the first 5 rows of the data set \n",
    "train_data.head()"
   ]
  },
  {
   "cell_type": "code",
   "execution_count": 3,
   "metadata": {
    "execution": {
     "iopub.execute_input": "2020-09-20T14:58:18.070481Z",
     "iopub.status.busy": "2020-09-20T14:58:18.060113Z",
     "iopub.status.idle": "2020-09-20T14:58:18.093869Z",
     "shell.execute_reply": "2020-09-20T14:58:18.094531Z"
    },
    "papermill": {
     "duration": 0.072192,
     "end_time": "2020-09-20T14:58:18.094685",
     "exception": false,
     "start_time": "2020-09-20T14:58:18.022493",
     "status": "completed"
    },
    "tags": []
   },
   "outputs": [
    {
     "name": "stdout",
     "output_type": "stream",
     "text": [
      "<class 'pandas.core.frame.DataFrame'>\n",
      "RangeIndex: 42000 entries, 0 to 41999\n",
      "Columns: 785 entries, label to pixel783\n",
      "dtypes: int64(785)\n",
      "memory usage: 251.5 MB\n"
     ]
    }
   ],
   "source": [
    "#Will give us some info of the data object itself\n",
    "train_data.info()"
   ]
  },
  {
   "cell_type": "code",
   "execution_count": 4,
   "metadata": {
    "execution": {
     "iopub.execute_input": "2020-09-20T14:58:18.151283Z",
     "iopub.status.busy": "2020-09-20T14:58:18.150632Z",
     "iopub.status.idle": "2020-09-20T14:58:21.354585Z",
     "shell.execute_reply": "2020-09-20T14:58:21.355093Z"
    },
    "papermill": {
     "duration": 3.235451,
     "end_time": "2020-09-20T14:58:21.355256",
     "exception": false,
     "start_time": "2020-09-20T14:58:18.119805",
     "status": "completed"
    },
    "tags": []
   },
   "outputs": [
    {
     "data": {
      "text/html": [
       "<div>\n",
       "<style scoped>\n",
       "    .dataframe tbody tr th:only-of-type {\n",
       "        vertical-align: middle;\n",
       "    }\n",
       "\n",
       "    .dataframe tbody tr th {\n",
       "        vertical-align: top;\n",
       "    }\n",
       "\n",
       "    .dataframe thead th {\n",
       "        text-align: right;\n",
       "    }\n",
       "</style>\n",
       "<table border=\"1\" class=\"dataframe\">\n",
       "  <thead>\n",
       "    <tr style=\"text-align: right;\">\n",
       "      <th></th>\n",
       "      <th>label</th>\n",
       "      <th>pixel0</th>\n",
       "      <th>pixel1</th>\n",
       "      <th>pixel2</th>\n",
       "      <th>pixel3</th>\n",
       "      <th>pixel4</th>\n",
       "      <th>pixel5</th>\n",
       "      <th>pixel6</th>\n",
       "      <th>pixel7</th>\n",
       "      <th>pixel8</th>\n",
       "      <th>...</th>\n",
       "      <th>pixel774</th>\n",
       "      <th>pixel775</th>\n",
       "      <th>pixel776</th>\n",
       "      <th>pixel777</th>\n",
       "      <th>pixel778</th>\n",
       "      <th>pixel779</th>\n",
       "      <th>pixel780</th>\n",
       "      <th>pixel781</th>\n",
       "      <th>pixel782</th>\n",
       "      <th>pixel783</th>\n",
       "    </tr>\n",
       "  </thead>\n",
       "  <tbody>\n",
       "    <tr>\n",
       "      <th>count</th>\n",
       "      <td>42000.000000</td>\n",
       "      <td>42000.0</td>\n",
       "      <td>42000.0</td>\n",
       "      <td>42000.0</td>\n",
       "      <td>42000.0</td>\n",
       "      <td>42000.0</td>\n",
       "      <td>42000.0</td>\n",
       "      <td>42000.0</td>\n",
       "      <td>42000.0</td>\n",
       "      <td>42000.0</td>\n",
       "      <td>...</td>\n",
       "      <td>42000.000000</td>\n",
       "      <td>42000.000000</td>\n",
       "      <td>42000.000000</td>\n",
       "      <td>42000.00000</td>\n",
       "      <td>42000.000000</td>\n",
       "      <td>42000.000000</td>\n",
       "      <td>42000.0</td>\n",
       "      <td>42000.0</td>\n",
       "      <td>42000.0</td>\n",
       "      <td>42000.0</td>\n",
       "    </tr>\n",
       "    <tr>\n",
       "      <th>mean</th>\n",
       "      <td>4.456643</td>\n",
       "      <td>0.0</td>\n",
       "      <td>0.0</td>\n",
       "      <td>0.0</td>\n",
       "      <td>0.0</td>\n",
       "      <td>0.0</td>\n",
       "      <td>0.0</td>\n",
       "      <td>0.0</td>\n",
       "      <td>0.0</td>\n",
       "      <td>0.0</td>\n",
       "      <td>...</td>\n",
       "      <td>0.219286</td>\n",
       "      <td>0.117095</td>\n",
       "      <td>0.059024</td>\n",
       "      <td>0.02019</td>\n",
       "      <td>0.017238</td>\n",
       "      <td>0.002857</td>\n",
       "      <td>0.0</td>\n",
       "      <td>0.0</td>\n",
       "      <td>0.0</td>\n",
       "      <td>0.0</td>\n",
       "    </tr>\n",
       "    <tr>\n",
       "      <th>std</th>\n",
       "      <td>2.887730</td>\n",
       "      <td>0.0</td>\n",
       "      <td>0.0</td>\n",
       "      <td>0.0</td>\n",
       "      <td>0.0</td>\n",
       "      <td>0.0</td>\n",
       "      <td>0.0</td>\n",
       "      <td>0.0</td>\n",
       "      <td>0.0</td>\n",
       "      <td>0.0</td>\n",
       "      <td>...</td>\n",
       "      <td>6.312890</td>\n",
       "      <td>4.633819</td>\n",
       "      <td>3.274488</td>\n",
       "      <td>1.75987</td>\n",
       "      <td>1.894498</td>\n",
       "      <td>0.414264</td>\n",
       "      <td>0.0</td>\n",
       "      <td>0.0</td>\n",
       "      <td>0.0</td>\n",
       "      <td>0.0</td>\n",
       "    </tr>\n",
       "    <tr>\n",
       "      <th>min</th>\n",
       "      <td>0.000000</td>\n",
       "      <td>0.0</td>\n",
       "      <td>0.0</td>\n",
       "      <td>0.0</td>\n",
       "      <td>0.0</td>\n",
       "      <td>0.0</td>\n",
       "      <td>0.0</td>\n",
       "      <td>0.0</td>\n",
       "      <td>0.0</td>\n",
       "      <td>0.0</td>\n",
       "      <td>...</td>\n",
       "      <td>0.000000</td>\n",
       "      <td>0.000000</td>\n",
       "      <td>0.000000</td>\n",
       "      <td>0.00000</td>\n",
       "      <td>0.000000</td>\n",
       "      <td>0.000000</td>\n",
       "      <td>0.0</td>\n",
       "      <td>0.0</td>\n",
       "      <td>0.0</td>\n",
       "      <td>0.0</td>\n",
       "    </tr>\n",
       "    <tr>\n",
       "      <th>25%</th>\n",
       "      <td>2.000000</td>\n",
       "      <td>0.0</td>\n",
       "      <td>0.0</td>\n",
       "      <td>0.0</td>\n",
       "      <td>0.0</td>\n",
       "      <td>0.0</td>\n",
       "      <td>0.0</td>\n",
       "      <td>0.0</td>\n",
       "      <td>0.0</td>\n",
       "      <td>0.0</td>\n",
       "      <td>...</td>\n",
       "      <td>0.000000</td>\n",
       "      <td>0.000000</td>\n",
       "      <td>0.000000</td>\n",
       "      <td>0.00000</td>\n",
       "      <td>0.000000</td>\n",
       "      <td>0.000000</td>\n",
       "      <td>0.0</td>\n",
       "      <td>0.0</td>\n",
       "      <td>0.0</td>\n",
       "      <td>0.0</td>\n",
       "    </tr>\n",
       "    <tr>\n",
       "      <th>50%</th>\n",
       "      <td>4.000000</td>\n",
       "      <td>0.0</td>\n",
       "      <td>0.0</td>\n",
       "      <td>0.0</td>\n",
       "      <td>0.0</td>\n",
       "      <td>0.0</td>\n",
       "      <td>0.0</td>\n",
       "      <td>0.0</td>\n",
       "      <td>0.0</td>\n",
       "      <td>0.0</td>\n",
       "      <td>...</td>\n",
       "      <td>0.000000</td>\n",
       "      <td>0.000000</td>\n",
       "      <td>0.000000</td>\n",
       "      <td>0.00000</td>\n",
       "      <td>0.000000</td>\n",
       "      <td>0.000000</td>\n",
       "      <td>0.0</td>\n",
       "      <td>0.0</td>\n",
       "      <td>0.0</td>\n",
       "      <td>0.0</td>\n",
       "    </tr>\n",
       "    <tr>\n",
       "      <th>75%</th>\n",
       "      <td>7.000000</td>\n",
       "      <td>0.0</td>\n",
       "      <td>0.0</td>\n",
       "      <td>0.0</td>\n",
       "      <td>0.0</td>\n",
       "      <td>0.0</td>\n",
       "      <td>0.0</td>\n",
       "      <td>0.0</td>\n",
       "      <td>0.0</td>\n",
       "      <td>0.0</td>\n",
       "      <td>...</td>\n",
       "      <td>0.000000</td>\n",
       "      <td>0.000000</td>\n",
       "      <td>0.000000</td>\n",
       "      <td>0.00000</td>\n",
       "      <td>0.000000</td>\n",
       "      <td>0.000000</td>\n",
       "      <td>0.0</td>\n",
       "      <td>0.0</td>\n",
       "      <td>0.0</td>\n",
       "      <td>0.0</td>\n",
       "    </tr>\n",
       "    <tr>\n",
       "      <th>max</th>\n",
       "      <td>9.000000</td>\n",
       "      <td>0.0</td>\n",
       "      <td>0.0</td>\n",
       "      <td>0.0</td>\n",
       "      <td>0.0</td>\n",
       "      <td>0.0</td>\n",
       "      <td>0.0</td>\n",
       "      <td>0.0</td>\n",
       "      <td>0.0</td>\n",
       "      <td>0.0</td>\n",
       "      <td>...</td>\n",
       "      <td>254.000000</td>\n",
       "      <td>254.000000</td>\n",
       "      <td>253.000000</td>\n",
       "      <td>253.00000</td>\n",
       "      <td>254.000000</td>\n",
       "      <td>62.000000</td>\n",
       "      <td>0.0</td>\n",
       "      <td>0.0</td>\n",
       "      <td>0.0</td>\n",
       "      <td>0.0</td>\n",
       "    </tr>\n",
       "  </tbody>\n",
       "</table>\n",
       "<p>8 rows × 785 columns</p>\n",
       "</div>"
      ],
      "text/plain": [
       "              label   pixel0   pixel1   pixel2   pixel3   pixel4   pixel5  \\\n",
       "count  42000.000000  42000.0  42000.0  42000.0  42000.0  42000.0  42000.0   \n",
       "mean       4.456643      0.0      0.0      0.0      0.0      0.0      0.0   \n",
       "std        2.887730      0.0      0.0      0.0      0.0      0.0      0.0   \n",
       "min        0.000000      0.0      0.0      0.0      0.0      0.0      0.0   \n",
       "25%        2.000000      0.0      0.0      0.0      0.0      0.0      0.0   \n",
       "50%        4.000000      0.0      0.0      0.0      0.0      0.0      0.0   \n",
       "75%        7.000000      0.0      0.0      0.0      0.0      0.0      0.0   \n",
       "max        9.000000      0.0      0.0      0.0      0.0      0.0      0.0   \n",
       "\n",
       "        pixel6   pixel7   pixel8  ...      pixel774      pixel775  \\\n",
       "count  42000.0  42000.0  42000.0  ...  42000.000000  42000.000000   \n",
       "mean       0.0      0.0      0.0  ...      0.219286      0.117095   \n",
       "std        0.0      0.0      0.0  ...      6.312890      4.633819   \n",
       "min        0.0      0.0      0.0  ...      0.000000      0.000000   \n",
       "25%        0.0      0.0      0.0  ...      0.000000      0.000000   \n",
       "50%        0.0      0.0      0.0  ...      0.000000      0.000000   \n",
       "75%        0.0      0.0      0.0  ...      0.000000      0.000000   \n",
       "max        0.0      0.0      0.0  ...    254.000000    254.000000   \n",
       "\n",
       "           pixel776     pixel777      pixel778      pixel779  pixel780  \\\n",
       "count  42000.000000  42000.00000  42000.000000  42000.000000   42000.0   \n",
       "mean       0.059024      0.02019      0.017238      0.002857       0.0   \n",
       "std        3.274488      1.75987      1.894498      0.414264       0.0   \n",
       "min        0.000000      0.00000      0.000000      0.000000       0.0   \n",
       "25%        0.000000      0.00000      0.000000      0.000000       0.0   \n",
       "50%        0.000000      0.00000      0.000000      0.000000       0.0   \n",
       "75%        0.000000      0.00000      0.000000      0.000000       0.0   \n",
       "max      253.000000    253.00000    254.000000     62.000000       0.0   \n",
       "\n",
       "       pixel781  pixel782  pixel783  \n",
       "count   42000.0   42000.0   42000.0  \n",
       "mean        0.0       0.0       0.0  \n",
       "std         0.0       0.0       0.0  \n",
       "min         0.0       0.0       0.0  \n",
       "25%         0.0       0.0       0.0  \n",
       "50%         0.0       0.0       0.0  \n",
       "75%         0.0       0.0       0.0  \n",
       "max         0.0       0.0       0.0  \n",
       "\n",
       "[8 rows x 785 columns]"
      ]
     },
     "execution_count": 4,
     "metadata": {},
     "output_type": "execute_result"
    }
   ],
   "source": [
    "#will give us so stats about each column of the data frame - expecially useful for seeing quickly if there are any missing entries\n",
    "train_data.describe()"
   ]
  },
  {
   "cell_type": "code",
   "execution_count": 5,
   "metadata": {
    "execution": {
     "iopub.execute_input": "2020-09-20T14:58:21.417065Z",
     "iopub.status.busy": "2020-09-20T14:58:21.416009Z",
     "iopub.status.idle": "2020-09-20T14:58:21.424493Z",
     "shell.execute_reply": "2020-09-20T14:58:21.423859Z"
    },
    "papermill": {
     "duration": 0.041081,
     "end_time": "2020-09-20T14:58:21.424599",
     "exception": false,
     "start_time": "2020-09-20T14:58:21.383518",
     "status": "completed"
    },
    "tags": []
   },
   "outputs": [
    {
     "data": {
      "text/plain": [
       "1    4684\n",
       "7    4401\n",
       "3    4351\n",
       "9    4188\n",
       "2    4177\n",
       "6    4137\n",
       "0    4132\n",
       "4    4072\n",
       "8    4063\n",
       "5    3795\n",
       "Name: label, dtype: int64"
      ]
     },
     "execution_count": 5,
     "metadata": {},
     "output_type": "execute_result"
    }
   ],
   "source": [
    "#lets also get a quick idea of the split in the data set between the different digits - turns out that the split looks fairly even(-ish)\n",
    "train_data['label'].value_counts()"
   ]
  },
  {
   "cell_type": "markdown",
   "metadata": {
    "papermill": {
     "duration": 0.028733,
     "end_time": "2020-09-20T14:58:21.482725",
     "exception": false,
     "start_time": "2020-09-20T14:58:21.453992",
     "status": "completed"
    },
    "tags": []
   },
   "source": [
    "Ok so now we have got a pretty good overview of the train data - lets quickly do the same thing with the test data"
   ]
  },
  {
   "cell_type": "code",
   "execution_count": 6,
   "metadata": {
    "execution": {
     "iopub.execute_input": "2020-09-20T14:58:21.548053Z",
     "iopub.status.busy": "2020-09-20T14:58:21.547227Z",
     "iopub.status.idle": "2020-09-20T14:58:23.316784Z",
     "shell.execute_reply": "2020-09-20T14:58:23.315602Z"
    },
    "papermill": {
     "duration": 1.803913,
     "end_time": "2020-09-20T14:58:23.316943",
     "exception": false,
     "start_time": "2020-09-20T14:58:21.513030",
     "status": "completed"
    },
    "tags": []
   },
   "outputs": [
    {
     "data": {
      "text/html": [
       "<div>\n",
       "<style scoped>\n",
       "    .dataframe tbody tr th:only-of-type {\n",
       "        vertical-align: middle;\n",
       "    }\n",
       "\n",
       "    .dataframe tbody tr th {\n",
       "        vertical-align: top;\n",
       "    }\n",
       "\n",
       "    .dataframe thead th {\n",
       "        text-align: right;\n",
       "    }\n",
       "</style>\n",
       "<table border=\"1\" class=\"dataframe\">\n",
       "  <thead>\n",
       "    <tr style=\"text-align: right;\">\n",
       "      <th></th>\n",
       "      <th>pixel0</th>\n",
       "      <th>pixel1</th>\n",
       "      <th>pixel2</th>\n",
       "      <th>pixel3</th>\n",
       "      <th>pixel4</th>\n",
       "      <th>pixel5</th>\n",
       "      <th>pixel6</th>\n",
       "      <th>pixel7</th>\n",
       "      <th>pixel8</th>\n",
       "      <th>pixel9</th>\n",
       "      <th>...</th>\n",
       "      <th>pixel774</th>\n",
       "      <th>pixel775</th>\n",
       "      <th>pixel776</th>\n",
       "      <th>pixel777</th>\n",
       "      <th>pixel778</th>\n",
       "      <th>pixel779</th>\n",
       "      <th>pixel780</th>\n",
       "      <th>pixel781</th>\n",
       "      <th>pixel782</th>\n",
       "      <th>pixel783</th>\n",
       "    </tr>\n",
       "  </thead>\n",
       "  <tbody>\n",
       "    <tr>\n",
       "      <th>0</th>\n",
       "      <td>0</td>\n",
       "      <td>0</td>\n",
       "      <td>0</td>\n",
       "      <td>0</td>\n",
       "      <td>0</td>\n",
       "      <td>0</td>\n",
       "      <td>0</td>\n",
       "      <td>0</td>\n",
       "      <td>0</td>\n",
       "      <td>0</td>\n",
       "      <td>...</td>\n",
       "      <td>0</td>\n",
       "      <td>0</td>\n",
       "      <td>0</td>\n",
       "      <td>0</td>\n",
       "      <td>0</td>\n",
       "      <td>0</td>\n",
       "      <td>0</td>\n",
       "      <td>0</td>\n",
       "      <td>0</td>\n",
       "      <td>0</td>\n",
       "    </tr>\n",
       "    <tr>\n",
       "      <th>1</th>\n",
       "      <td>0</td>\n",
       "      <td>0</td>\n",
       "      <td>0</td>\n",
       "      <td>0</td>\n",
       "      <td>0</td>\n",
       "      <td>0</td>\n",
       "      <td>0</td>\n",
       "      <td>0</td>\n",
       "      <td>0</td>\n",
       "      <td>0</td>\n",
       "      <td>...</td>\n",
       "      <td>0</td>\n",
       "      <td>0</td>\n",
       "      <td>0</td>\n",
       "      <td>0</td>\n",
       "      <td>0</td>\n",
       "      <td>0</td>\n",
       "      <td>0</td>\n",
       "      <td>0</td>\n",
       "      <td>0</td>\n",
       "      <td>0</td>\n",
       "    </tr>\n",
       "    <tr>\n",
       "      <th>2</th>\n",
       "      <td>0</td>\n",
       "      <td>0</td>\n",
       "      <td>0</td>\n",
       "      <td>0</td>\n",
       "      <td>0</td>\n",
       "      <td>0</td>\n",
       "      <td>0</td>\n",
       "      <td>0</td>\n",
       "      <td>0</td>\n",
       "      <td>0</td>\n",
       "      <td>...</td>\n",
       "      <td>0</td>\n",
       "      <td>0</td>\n",
       "      <td>0</td>\n",
       "      <td>0</td>\n",
       "      <td>0</td>\n",
       "      <td>0</td>\n",
       "      <td>0</td>\n",
       "      <td>0</td>\n",
       "      <td>0</td>\n",
       "      <td>0</td>\n",
       "    </tr>\n",
       "    <tr>\n",
       "      <th>3</th>\n",
       "      <td>0</td>\n",
       "      <td>0</td>\n",
       "      <td>0</td>\n",
       "      <td>0</td>\n",
       "      <td>0</td>\n",
       "      <td>0</td>\n",
       "      <td>0</td>\n",
       "      <td>0</td>\n",
       "      <td>0</td>\n",
       "      <td>0</td>\n",
       "      <td>...</td>\n",
       "      <td>0</td>\n",
       "      <td>0</td>\n",
       "      <td>0</td>\n",
       "      <td>0</td>\n",
       "      <td>0</td>\n",
       "      <td>0</td>\n",
       "      <td>0</td>\n",
       "      <td>0</td>\n",
       "      <td>0</td>\n",
       "      <td>0</td>\n",
       "    </tr>\n",
       "    <tr>\n",
       "      <th>4</th>\n",
       "      <td>0</td>\n",
       "      <td>0</td>\n",
       "      <td>0</td>\n",
       "      <td>0</td>\n",
       "      <td>0</td>\n",
       "      <td>0</td>\n",
       "      <td>0</td>\n",
       "      <td>0</td>\n",
       "      <td>0</td>\n",
       "      <td>0</td>\n",
       "      <td>...</td>\n",
       "      <td>0</td>\n",
       "      <td>0</td>\n",
       "      <td>0</td>\n",
       "      <td>0</td>\n",
       "      <td>0</td>\n",
       "      <td>0</td>\n",
       "      <td>0</td>\n",
       "      <td>0</td>\n",
       "      <td>0</td>\n",
       "      <td>0</td>\n",
       "    </tr>\n",
       "  </tbody>\n",
       "</table>\n",
       "<p>5 rows × 784 columns</p>\n",
       "</div>"
      ],
      "text/plain": [
       "   pixel0  pixel1  pixel2  pixel3  pixel4  pixel5  pixel6  pixel7  pixel8  \\\n",
       "0       0       0       0       0       0       0       0       0       0   \n",
       "1       0       0       0       0       0       0       0       0       0   \n",
       "2       0       0       0       0       0       0       0       0       0   \n",
       "3       0       0       0       0       0       0       0       0       0   \n",
       "4       0       0       0       0       0       0       0       0       0   \n",
       "\n",
       "   pixel9  ...  pixel774  pixel775  pixel776  pixel777  pixel778  pixel779  \\\n",
       "0       0  ...         0         0         0         0         0         0   \n",
       "1       0  ...         0         0         0         0         0         0   \n",
       "2       0  ...         0         0         0         0         0         0   \n",
       "3       0  ...         0         0         0         0         0         0   \n",
       "4       0  ...         0         0         0         0         0         0   \n",
       "\n",
       "   pixel780  pixel781  pixel782  pixel783  \n",
       "0         0         0         0         0  \n",
       "1         0         0         0         0  \n",
       "2         0         0         0         0  \n",
       "3         0         0         0         0  \n",
       "4         0         0         0         0  \n",
       "\n",
       "[5 rows x 784 columns]"
      ]
     },
     "execution_count": 6,
     "metadata": {},
     "output_type": "execute_result"
    }
   ],
   "source": [
    "test_data = pd.read_csv('test.csv')\n",
    "test_data.head()"
   ]
  },
  {
   "cell_type": "code",
   "execution_count": 7,
   "metadata": {
    "execution": {
     "iopub.execute_input": "2020-09-20T14:58:23.385726Z",
     "iopub.status.busy": "2020-09-20T14:58:23.380575Z",
     "iopub.status.idle": "2020-09-20T14:58:23.416399Z",
     "shell.execute_reply": "2020-09-20T14:58:23.417130Z"
    },
    "papermill": {
     "duration": 0.072419,
     "end_time": "2020-09-20T14:58:23.417307",
     "exception": false,
     "start_time": "2020-09-20T14:58:23.344888",
     "status": "completed"
    },
    "tags": []
   },
   "outputs": [
    {
     "name": "stdout",
     "output_type": "stream",
     "text": [
      "<class 'pandas.core.frame.DataFrame'>\n",
      "RangeIndex: 28000 entries, 0 to 27999\n",
      "Columns: 784 entries, pixel0 to pixel783\n",
      "dtypes: int64(784)\n",
      "memory usage: 167.5 MB\n"
     ]
    }
   ],
   "source": [
    "test_data.info()"
   ]
  },
  {
   "cell_type": "code",
   "execution_count": 8,
   "metadata": {
    "execution": {
     "iopub.execute_input": "2020-09-20T14:58:23.480187Z",
     "iopub.status.busy": "2020-09-20T14:58:23.479078Z",
     "iopub.status.idle": "2020-09-20T14:58:25.816353Z",
     "shell.execute_reply": "2020-09-20T14:58:25.816940Z"
    },
    "papermill": {
     "duration": 2.371077,
     "end_time": "2020-09-20T14:58:25.817092",
     "exception": false,
     "start_time": "2020-09-20T14:58:23.446015",
     "status": "completed"
    },
    "tags": []
   },
   "outputs": [
    {
     "data": {
      "text/html": [
       "<div>\n",
       "<style scoped>\n",
       "    .dataframe tbody tr th:only-of-type {\n",
       "        vertical-align: middle;\n",
       "    }\n",
       "\n",
       "    .dataframe tbody tr th {\n",
       "        vertical-align: top;\n",
       "    }\n",
       "\n",
       "    .dataframe thead th {\n",
       "        text-align: right;\n",
       "    }\n",
       "</style>\n",
       "<table border=\"1\" class=\"dataframe\">\n",
       "  <thead>\n",
       "    <tr style=\"text-align: right;\">\n",
       "      <th></th>\n",
       "      <th>pixel0</th>\n",
       "      <th>pixel1</th>\n",
       "      <th>pixel2</th>\n",
       "      <th>pixel3</th>\n",
       "      <th>pixel4</th>\n",
       "      <th>pixel5</th>\n",
       "      <th>pixel6</th>\n",
       "      <th>pixel7</th>\n",
       "      <th>pixel8</th>\n",
       "      <th>pixel9</th>\n",
       "      <th>...</th>\n",
       "      <th>pixel774</th>\n",
       "      <th>pixel775</th>\n",
       "      <th>pixel776</th>\n",
       "      <th>pixel777</th>\n",
       "      <th>pixel778</th>\n",
       "      <th>pixel779</th>\n",
       "      <th>pixel780</th>\n",
       "      <th>pixel781</th>\n",
       "      <th>pixel782</th>\n",
       "      <th>pixel783</th>\n",
       "    </tr>\n",
       "  </thead>\n",
       "  <tbody>\n",
       "    <tr>\n",
       "      <th>count</th>\n",
       "      <td>28000.0</td>\n",
       "      <td>28000.0</td>\n",
       "      <td>28000.0</td>\n",
       "      <td>28000.0</td>\n",
       "      <td>28000.0</td>\n",
       "      <td>28000.0</td>\n",
       "      <td>28000.0</td>\n",
       "      <td>28000.0</td>\n",
       "      <td>28000.0</td>\n",
       "      <td>28000.0</td>\n",
       "      <td>...</td>\n",
       "      <td>28000.000000</td>\n",
       "      <td>28000.000000</td>\n",
       "      <td>28000.000000</td>\n",
       "      <td>28000.000000</td>\n",
       "      <td>28000.000000</td>\n",
       "      <td>28000.0</td>\n",
       "      <td>28000.0</td>\n",
       "      <td>28000.0</td>\n",
       "      <td>28000.0</td>\n",
       "      <td>28000.0</td>\n",
       "    </tr>\n",
       "    <tr>\n",
       "      <th>mean</th>\n",
       "      <td>0.0</td>\n",
       "      <td>0.0</td>\n",
       "      <td>0.0</td>\n",
       "      <td>0.0</td>\n",
       "      <td>0.0</td>\n",
       "      <td>0.0</td>\n",
       "      <td>0.0</td>\n",
       "      <td>0.0</td>\n",
       "      <td>0.0</td>\n",
       "      <td>0.0</td>\n",
       "      <td>...</td>\n",
       "      <td>0.164607</td>\n",
       "      <td>0.073214</td>\n",
       "      <td>0.028036</td>\n",
       "      <td>0.011250</td>\n",
       "      <td>0.006536</td>\n",
       "      <td>0.0</td>\n",
       "      <td>0.0</td>\n",
       "      <td>0.0</td>\n",
       "      <td>0.0</td>\n",
       "      <td>0.0</td>\n",
       "    </tr>\n",
       "    <tr>\n",
       "      <th>std</th>\n",
       "      <td>0.0</td>\n",
       "      <td>0.0</td>\n",
       "      <td>0.0</td>\n",
       "      <td>0.0</td>\n",
       "      <td>0.0</td>\n",
       "      <td>0.0</td>\n",
       "      <td>0.0</td>\n",
       "      <td>0.0</td>\n",
       "      <td>0.0</td>\n",
       "      <td>0.0</td>\n",
       "      <td>...</td>\n",
       "      <td>5.473293</td>\n",
       "      <td>3.616811</td>\n",
       "      <td>1.813602</td>\n",
       "      <td>1.205211</td>\n",
       "      <td>0.807475</td>\n",
       "      <td>0.0</td>\n",
       "      <td>0.0</td>\n",
       "      <td>0.0</td>\n",
       "      <td>0.0</td>\n",
       "      <td>0.0</td>\n",
       "    </tr>\n",
       "    <tr>\n",
       "      <th>min</th>\n",
       "      <td>0.0</td>\n",
       "      <td>0.0</td>\n",
       "      <td>0.0</td>\n",
       "      <td>0.0</td>\n",
       "      <td>0.0</td>\n",
       "      <td>0.0</td>\n",
       "      <td>0.0</td>\n",
       "      <td>0.0</td>\n",
       "      <td>0.0</td>\n",
       "      <td>0.0</td>\n",
       "      <td>...</td>\n",
       "      <td>0.000000</td>\n",
       "      <td>0.000000</td>\n",
       "      <td>0.000000</td>\n",
       "      <td>0.000000</td>\n",
       "      <td>0.000000</td>\n",
       "      <td>0.0</td>\n",
       "      <td>0.0</td>\n",
       "      <td>0.0</td>\n",
       "      <td>0.0</td>\n",
       "      <td>0.0</td>\n",
       "    </tr>\n",
       "    <tr>\n",
       "      <th>25%</th>\n",
       "      <td>0.0</td>\n",
       "      <td>0.0</td>\n",
       "      <td>0.0</td>\n",
       "      <td>0.0</td>\n",
       "      <td>0.0</td>\n",
       "      <td>0.0</td>\n",
       "      <td>0.0</td>\n",
       "      <td>0.0</td>\n",
       "      <td>0.0</td>\n",
       "      <td>0.0</td>\n",
       "      <td>...</td>\n",
       "      <td>0.000000</td>\n",
       "      <td>0.000000</td>\n",
       "      <td>0.000000</td>\n",
       "      <td>0.000000</td>\n",
       "      <td>0.000000</td>\n",
       "      <td>0.0</td>\n",
       "      <td>0.0</td>\n",
       "      <td>0.0</td>\n",
       "      <td>0.0</td>\n",
       "      <td>0.0</td>\n",
       "    </tr>\n",
       "    <tr>\n",
       "      <th>50%</th>\n",
       "      <td>0.0</td>\n",
       "      <td>0.0</td>\n",
       "      <td>0.0</td>\n",
       "      <td>0.0</td>\n",
       "      <td>0.0</td>\n",
       "      <td>0.0</td>\n",
       "      <td>0.0</td>\n",
       "      <td>0.0</td>\n",
       "      <td>0.0</td>\n",
       "      <td>0.0</td>\n",
       "      <td>...</td>\n",
       "      <td>0.000000</td>\n",
       "      <td>0.000000</td>\n",
       "      <td>0.000000</td>\n",
       "      <td>0.000000</td>\n",
       "      <td>0.000000</td>\n",
       "      <td>0.0</td>\n",
       "      <td>0.0</td>\n",
       "      <td>0.0</td>\n",
       "      <td>0.0</td>\n",
       "      <td>0.0</td>\n",
       "    </tr>\n",
       "    <tr>\n",
       "      <th>75%</th>\n",
       "      <td>0.0</td>\n",
       "      <td>0.0</td>\n",
       "      <td>0.0</td>\n",
       "      <td>0.0</td>\n",
       "      <td>0.0</td>\n",
       "      <td>0.0</td>\n",
       "      <td>0.0</td>\n",
       "      <td>0.0</td>\n",
       "      <td>0.0</td>\n",
       "      <td>0.0</td>\n",
       "      <td>...</td>\n",
       "      <td>0.000000</td>\n",
       "      <td>0.000000</td>\n",
       "      <td>0.000000</td>\n",
       "      <td>0.000000</td>\n",
       "      <td>0.000000</td>\n",
       "      <td>0.0</td>\n",
       "      <td>0.0</td>\n",
       "      <td>0.0</td>\n",
       "      <td>0.0</td>\n",
       "      <td>0.0</td>\n",
       "    </tr>\n",
       "    <tr>\n",
       "      <th>max</th>\n",
       "      <td>0.0</td>\n",
       "      <td>0.0</td>\n",
       "      <td>0.0</td>\n",
       "      <td>0.0</td>\n",
       "      <td>0.0</td>\n",
       "      <td>0.0</td>\n",
       "      <td>0.0</td>\n",
       "      <td>0.0</td>\n",
       "      <td>0.0</td>\n",
       "      <td>0.0</td>\n",
       "      <td>...</td>\n",
       "      <td>253.000000</td>\n",
       "      <td>254.000000</td>\n",
       "      <td>193.000000</td>\n",
       "      <td>187.000000</td>\n",
       "      <td>119.000000</td>\n",
       "      <td>0.0</td>\n",
       "      <td>0.0</td>\n",
       "      <td>0.0</td>\n",
       "      <td>0.0</td>\n",
       "      <td>0.0</td>\n",
       "    </tr>\n",
       "  </tbody>\n",
       "</table>\n",
       "<p>8 rows × 784 columns</p>\n",
       "</div>"
      ],
      "text/plain": [
       "        pixel0   pixel1   pixel2   pixel3   pixel4   pixel5   pixel6   pixel7  \\\n",
       "count  28000.0  28000.0  28000.0  28000.0  28000.0  28000.0  28000.0  28000.0   \n",
       "mean       0.0      0.0      0.0      0.0      0.0      0.0      0.0      0.0   \n",
       "std        0.0      0.0      0.0      0.0      0.0      0.0      0.0      0.0   \n",
       "min        0.0      0.0      0.0      0.0      0.0      0.0      0.0      0.0   \n",
       "25%        0.0      0.0      0.0      0.0      0.0      0.0      0.0      0.0   \n",
       "50%        0.0      0.0      0.0      0.0      0.0      0.0      0.0      0.0   \n",
       "75%        0.0      0.0      0.0      0.0      0.0      0.0      0.0      0.0   \n",
       "max        0.0      0.0      0.0      0.0      0.0      0.0      0.0      0.0   \n",
       "\n",
       "        pixel8   pixel9  ...      pixel774      pixel775      pixel776  \\\n",
       "count  28000.0  28000.0  ...  28000.000000  28000.000000  28000.000000   \n",
       "mean       0.0      0.0  ...      0.164607      0.073214      0.028036   \n",
       "std        0.0      0.0  ...      5.473293      3.616811      1.813602   \n",
       "min        0.0      0.0  ...      0.000000      0.000000      0.000000   \n",
       "25%        0.0      0.0  ...      0.000000      0.000000      0.000000   \n",
       "50%        0.0      0.0  ...      0.000000      0.000000      0.000000   \n",
       "75%        0.0      0.0  ...      0.000000      0.000000      0.000000   \n",
       "max        0.0      0.0  ...    253.000000    254.000000    193.000000   \n",
       "\n",
       "           pixel777      pixel778  pixel779  pixel780  pixel781  pixel782  \\\n",
       "count  28000.000000  28000.000000   28000.0   28000.0   28000.0   28000.0   \n",
       "mean       0.011250      0.006536       0.0       0.0       0.0       0.0   \n",
       "std        1.205211      0.807475       0.0       0.0       0.0       0.0   \n",
       "min        0.000000      0.000000       0.0       0.0       0.0       0.0   \n",
       "25%        0.000000      0.000000       0.0       0.0       0.0       0.0   \n",
       "50%        0.000000      0.000000       0.0       0.0       0.0       0.0   \n",
       "75%        0.000000      0.000000       0.0       0.0       0.0       0.0   \n",
       "max      187.000000    119.000000       0.0       0.0       0.0       0.0   \n",
       "\n",
       "       pixel783  \n",
       "count   28000.0  \n",
       "mean        0.0  \n",
       "std         0.0  \n",
       "min         0.0  \n",
       "25%         0.0  \n",
       "50%         0.0  \n",
       "75%         0.0  \n",
       "max         0.0  \n",
       "\n",
       "[8 rows x 784 columns]"
      ]
     },
     "execution_count": 8,
     "metadata": {},
     "output_type": "execute_result"
    }
   ],
   "source": [
    "test_data.describe()"
   ]
  },
  {
   "cell_type": "code",
   "execution_count": 9,
   "metadata": {
    "execution": {
     "iopub.execute_input": "2020-09-20T14:58:25.965963Z",
     "iopub.status.busy": "2020-09-20T14:58:25.964788Z",
     "iopub.status.idle": "2020-09-20T14:58:26.065981Z",
     "shell.execute_reply": "2020-09-20T14:58:26.065392Z"
    },
    "papermill": {
     "duration": 0.21699,
     "end_time": "2020-09-20T14:58:26.066114",
     "exception": false,
     "start_time": "2020-09-20T14:58:25.849124",
     "status": "completed"
    },
    "tags": []
   },
   "outputs": [],
   "source": [
    "#lets just do a final couple things to get the data into a suibtable form \n",
    "\n",
    "y_train = train_data['label']\n",
    "X_train = train_data.drop('label', axis=1)\n",
    "\n",
    "#needs to be an array to be fed into the neural network\n",
    "X_train = X_train.values.astype('float32')\n",
    "y_train = y_train.values.astype('int32')\n",
    "X_test = test_data.values.astype('float32')"
   ]
  },
  {
   "cell_type": "code",
   "execution_count": 10,
   "metadata": {
    "execution": {
     "iopub.execute_input": "2020-09-20T14:58:26.131158Z",
     "iopub.status.busy": "2020-09-20T14:58:26.130179Z",
     "iopub.status.idle": "2020-09-20T14:58:26.133882Z",
     "shell.execute_reply": "2020-09-20T14:58:26.134427Z"
    },
    "papermill": {
     "duration": 0.03864,
     "end_time": "2020-09-20T14:58:26.134559",
     "exception": false,
     "start_time": "2020-09-20T14:58:26.095919",
     "status": "completed"
    },
    "tags": []
   },
   "outputs": [
    {
     "data": {
      "text/plain": [
       "array([[0., 0., 0., ..., 0., 0., 0.],\n",
       "       [0., 0., 0., ..., 0., 0., 0.],\n",
       "       [0., 0., 0., ..., 0., 0., 0.],\n",
       "       ...,\n",
       "       [0., 0., 0., ..., 0., 0., 0.],\n",
       "       [0., 0., 0., ..., 0., 0., 0.],\n",
       "       [0., 0., 0., ..., 0., 0., 0.]], dtype=float32)"
      ]
     },
     "execution_count": 10,
     "metadata": {},
     "output_type": "execute_result"
    }
   ],
   "source": [
    "#check that the data is in the forms that we want \n",
    "X_train"
   ]
  },
  {
   "cell_type": "code",
   "execution_count": 11,
   "metadata": {
    "execution": {
     "iopub.execute_input": "2020-09-20T14:58:26.206878Z",
     "iopub.status.busy": "2020-09-20T14:58:26.206072Z",
     "iopub.status.idle": "2020-09-20T14:58:26.209596Z",
     "shell.execute_reply": "2020-09-20T14:58:26.210178Z"
    },
    "papermill": {
     "duration": 0.043164,
     "end_time": "2020-09-20T14:58:26.210297",
     "exception": false,
     "start_time": "2020-09-20T14:58:26.167133",
     "status": "completed"
    },
    "tags": []
   },
   "outputs": [
    {
     "data": {
      "text/plain": [
       "array([1, 0, 1, ..., 7, 6, 9], dtype=int32)"
      ]
     },
     "execution_count": 11,
     "metadata": {},
     "output_type": "execute_result"
    }
   ],
   "source": [
    "y_train"
   ]
  },
  {
   "cell_type": "code",
   "execution_count": 12,
   "metadata": {
    "execution": {
     "iopub.execute_input": "2020-09-20T14:58:26.276278Z",
     "iopub.status.busy": "2020-09-20T14:58:26.275347Z",
     "iopub.status.idle": "2020-09-20T14:58:26.279599Z",
     "shell.execute_reply": "2020-09-20T14:58:26.279045Z"
    },
    "papermill": {
     "duration": 0.039569,
     "end_time": "2020-09-20T14:58:26.279748",
     "exception": false,
     "start_time": "2020-09-20T14:58:26.240179",
     "status": "completed"
    },
    "tags": []
   },
   "outputs": [
    {
     "data": {
      "text/plain": [
       "array([[0., 0., 0., ..., 0., 0., 0.],\n",
       "       [0., 0., 0., ..., 0., 0., 0.],\n",
       "       [0., 0., 0., ..., 0., 0., 0.],\n",
       "       ...,\n",
       "       [0., 0., 0., ..., 0., 0., 0.],\n",
       "       [0., 0., 0., ..., 0., 0., 0.],\n",
       "       [0., 0., 0., ..., 0., 0., 0.]], dtype=float32)"
      ]
     },
     "execution_count": 12,
     "metadata": {},
     "output_type": "execute_result"
    }
   ],
   "source": [
    "X_test"
   ]
  },
  {
   "cell_type": "markdown",
   "metadata": {
    "papermill": {
     "duration": 0.033415,
     "end_time": "2020-09-20T14:58:26.345282",
     "exception": false,
     "start_time": "2020-09-20T14:58:26.311867",
     "status": "completed"
    },
    "tags": []
   },
   "source": [
    "Also note that the class data needs to be catagorial - this can be easily done using inbuilt keras functions\n",
    "(one-hot encoding)"
   ]
  },
  {
   "cell_type": "code",
   "execution_count": 13,
   "metadata": {
    "execution": {
     "iopub.execute_input": "2020-09-20T14:58:26.418903Z",
     "iopub.status.busy": "2020-09-20T14:58:26.417728Z",
     "iopub.status.idle": "2020-09-20T14:58:31.478013Z",
     "shell.execute_reply": "2020-09-20T14:58:31.477243Z"
    },
    "papermill": {
     "duration": 5.099041,
     "end_time": "2020-09-20T14:58:31.478143",
     "exception": false,
     "start_time": "2020-09-20T14:58:26.379102",
     "status": "completed"
    },
    "tags": []
   },
   "outputs": [
    {
     "name": "stderr",
     "output_type": "stream",
     "text": [
      "Using TensorFlow backend.\n"
     ]
    },
    {
     "data": {
      "text/plain": [
       "array([[0., 1., 0., ..., 0., 0., 0.],\n",
       "       [1., 0., 0., ..., 0., 0., 0.],\n",
       "       [0., 1., 0., ..., 0., 0., 0.],\n",
       "       ...,\n",
       "       [0., 0., 0., ..., 1., 0., 0.],\n",
       "       [0., 0., 0., ..., 0., 0., 0.],\n",
       "       [0., 0., 0., ..., 0., 0., 1.]], dtype=float32)"
      ]
     },
     "execution_count": 13,
     "metadata": {},
     "output_type": "execute_result"
    }
   ],
   "source": [
    "from keras.utils import to_categorical\n",
    "num_classes = 10\n",
    "\n",
    "y_train = to_categorical(y_train,num_classes)\n",
    "\n",
    "y_train"
   ]
  },
  {
   "cell_type": "markdown",
   "metadata": {
    "papermill": {
     "duration": 0.03488,
     "end_time": "2020-09-20T14:58:31.559110",
     "exception": false,
     "start_time": "2020-09-20T14:58:31.524230",
     "status": "completed"
    },
    "tags": []
   },
   "source": [
    "# Data Visualisation \n",
    "\n",
    "To get a better idea of what is going on - it is always good to plot the data and have a look at what is going on!"
   ]
  },
  {
   "cell_type": "code",
   "execution_count": 14,
   "metadata": {
    "execution": {
     "iopub.execute_input": "2020-09-20T14:58:31.641947Z",
     "iopub.status.busy": "2020-09-20T14:58:31.641132Z",
     "iopub.status.idle": "2020-09-20T14:58:32.382256Z",
     "shell.execute_reply": "2020-09-20T14:58:32.382806Z"
    },
    "papermill": {
     "duration": 0.790677,
     "end_time": "2020-09-20T14:58:32.382962",
     "exception": false,
     "start_time": "2020-09-20T14:58:31.592285",
     "status": "completed"
    },
    "tags": []
   },
   "outputs": [
    {
     "data": {
      "image/png": "[encoded data removed]",
      "text/plain": [
       "<Figure size 432x288 with 3 Axes>"
      ]
     },
     "metadata": {
      "needs_background": "light"
     },
     "output_type": "display_data"
    }
   ],
   "source": [
    "#Need to convert the data sets to (num_images, img_rows, img_cols) format\n",
    "\n",
    "X_train = X_train.reshape(X_train.shape[0], 28, 28)\n",
    "X_test = X_test.reshape(X_test.shape[0], 28, 28)\n",
    "\n",
    "#plot some of the training data\n",
    "for i in range (3,6):\n",
    "    plt.subplot(330 + (i+1)) #not exactly sure why this is how you get the subplot to work ... but just go with it\n",
    "    plt.imshow(X_train[i], cmap=plt.get_cmap('gray'))\n",
    "    plt.title(np.where(y_train[i] ==1)[0][0])"
   ]
  },
  {
   "cell_type": "code",
   "execution_count": 15,
   "metadata": {
    "execution": {
     "iopub.execute_input": "2020-09-20T14:58:32.463590Z",
     "iopub.status.busy": "2020-09-20T14:58:32.462406Z",
     "iopub.status.idle": "2020-09-20T14:58:32.787813Z",
     "shell.execute_reply": "2020-09-20T14:58:32.788345Z"
    },
    "papermill": {
     "duration": 0.36863,
     "end_time": "2020-09-20T14:58:32.788476",
     "exception": false,
     "start_time": "2020-09-20T14:58:32.419846",
     "status": "completed"
    },
    "tags": []
   },
   "outputs": [
    {
     "data": {
      "image/png": "[encoded data removed]",
      "text/plain": [
       "<Figure size 432x288 with 3 Axes>"
      ]
     },
     "metadata": {
      "needs_background": "light"
     },
     "output_type": "display_data"
    }
   ],
   "source": [
    "#plot some of the test data\n",
    "for i in range (3,6):\n",
    "    plt.subplot(330 + (i+1)) #not exactly sure why this is how you get the subplot to work ... but just go with it\n",
    "    plt.imshow(X_test[i], cmap=plt.get_cmap('gray'))\n",
    "    plt.title('?')"
   ]
  },
  {
   "cell_type": "code",
   "execution_count": 16,
   "metadata": {
    "execution": {
     "iopub.execute_input": "2020-09-20T14:58:32.868920Z",
     "iopub.status.busy": "2020-09-20T14:58:32.867076Z",
     "iopub.status.idle": "2020-09-20T14:58:32.869868Z",
     "shell.execute_reply": "2020-09-20T14:58:32.870459Z"
    },
    "papermill": {
     "duration": 0.046185,
     "end_time": "2020-09-20T14:58:32.870584",
     "exception": false,
     "start_time": "2020-09-20T14:58:32.824399",
     "status": "completed"
    },
    "tags": []
   },
   "outputs": [],
   "source": [
    "#we now expand the dimensions for the colour channel grey\n",
    "#need to be of the form MxNxC for the keras api\n",
    "X_train = X_train.reshape(X_train.shape[0], 28, 28, 1)\n",
    "X_test = X_test.reshape(X_test.shape[0], 28, 28, 1)"
   ]
  },
  {
   "cell_type": "markdown",
   "metadata": {
    "papermill": {
     "duration": 0.03668,
     "end_time": "2020-09-20T14:58:32.944363",
     "exception": false,
     "start_time": "2020-09-20T14:58:32.907683",
     "status": "completed"
    },
    "tags": []
   },
   "source": [
    "# Build the CNN\n",
    "\n",
    "Now we will use keras to build the CNN - in the first instance this is quite simple and follows one of the versions highlighted above"
   ]
  },
  {
   "cell_type": "code",
   "execution_count": 17,
   "metadata": {
    "execution": {
     "iopub.execute_input": "2020-09-20T14:58:33.031729Z",
     "iopub.status.busy": "2020-09-20T14:58:33.030956Z",
     "iopub.status.idle": "2020-09-20T14:58:36.219446Z",
     "shell.execute_reply": "2020-09-20T14:58:36.220538Z"
    },
    "papermill": {
     "duration": 3.23836,
     "end_time": "2020-09-20T14:58:36.220709",
     "exception": false,
     "start_time": "2020-09-20T14:58:32.982349",
     "status": "completed"
    },
    "tags": []
   },
   "outputs": [
    {
     "name": "stdout",
     "output_type": "stream",
     "text": [
      "Model: \"sequential_1\"\n",
      "_________________________________________________________________\n",
      "Layer (type)                 Output Shape              Param #   \n",
      "=================================================================\n",
      "conv2d_1 (Conv2D)            (None, 24, 24, 32)        832       \n",
      "_________________________________________________________________\n",
      "max_pooling2d_1 (MaxPooling2 (None, 12, 12, 32)        0         \n",
      "_________________________________________________________________\n",
      "conv2d_2 (Conv2D)            (None, 8, 8, 64)          51264     \n",
      "_________________________________________________________________\n",
      "max_pooling2d_2 (MaxPooling2 (None, 4, 4, 64)          0         \n",
      "_________________________________________________________________\n",
      "dropout_1 (Dropout)          (None, 4, 4, 64)          0         \n",
      "_________________________________________________________________\n",
      "flatten_1 (Flatten)          (None, 1024)              0         \n",
      "_________________________________________________________________\n",
      "dense_1 (Dense)              (None, 1000)              1025000   \n",
      "_________________________________________________________________\n",
      "dense_2 (Dense)              (None, 10)                10010     \n",
      "=================================================================\n",
      "Total params: 1,087,106\n",
      "Trainable params: 1,087,106\n",
      "Non-trainable params: 0\n",
      "_________________________________________________________________\n"
     ]
    }
   ],
   "source": [
    "from keras.models import Sequential\n",
    "from keras.layers import Dense, Dropout, Flatten, Conv2D, MaxPooling2D\n",
    "\n",
    "#first create an empty model\n",
    "model = Sequential()\n",
    "\n",
    "#now add layers to the model\n",
    "#N.B. stride is how far the 'position' of the filter is moved at each step (effectively downsampling if it is more than 1)\n",
    "model.add(Conv2D(32, kernel_size=(5,5), strides=(1,1), activation = 'tanh', input_shape=(28,28,1))) #remember the number of channels after the convolution is the number of filters beforehand\n",
    "model.add(MaxPooling2D(pool_size=(2,2), strides = (2,2)))\n",
    "model.add(Conv2D(64, kernel_size=(5,5), strides = (1,1), activation = 'relu'))\n",
    "model.add(MaxPooling2D(pool_size=(2,2), strides = (2,2)))\n",
    "model.add(Dropout(0.1)) #randomly drops 10% of the input units - should avoid overfitting\n",
    "model.add(Flatten()) #flatten - tensor --> vector (n*(c*h*w)) (batch size * massive vector)\n",
    "model.add(Dense(1000, activation = 'relu')) #a dense layer is the a fully connected layer\n",
    "#The final layer needs to have the same size as the number of classes!\n",
    "model.add(Dense(num_classes, activation = 'softmax')) #softmax is the normalized exponential function\n",
    "\n",
    "model.summary()\n"
   ]
  },
  {
   "cell_type": "code",
   "execution_count": 18,
   "metadata": {
    "execution": {
     "iopub.execute_input": "2020-09-20T14:58:36.295687Z",
     "iopub.status.busy": "2020-09-20T14:58:36.294761Z",
     "iopub.status.idle": "2020-09-20T14:58:36.341424Z",
     "shell.execute_reply": "2020-09-20T14:58:36.340824Z"
    },
    "papermill": {
     "duration": 0.086189,
     "end_time": "2020-09-20T14:58:36.341540",
     "exception": false,
     "start_time": "2020-09-20T14:58:36.255351",
     "status": "completed"
    },
    "tags": []
   },
   "outputs": [],
   "source": [
    "#now lets compile the model\n",
    "\n",
    "model.compile(optimizer='Adam', loss='categorical_crossentropy',metrics=['accuracy'])\n"
   ]
  },
  {
   "cell_type": "markdown",
   "metadata": {
    "papermill": {
     "duration": 0.033976,
     "end_time": "2020-09-20T14:58:36.409273",
     "exception": false,
     "start_time": "2020-09-20T14:58:36.375297",
     "status": "completed"
    },
    "tags": []
   },
   "source": [
    "We run the training with the GPU - which helps the model to train roughly 3-5x quicker than just with the CPU\n",
    "\n",
    "The accuracy metric shown here is calculated on the batch that we use - i.e. the accuracy on the training data set. The fit() method can calculate the validation accuracy for us automatically - which is super useful! "
   ]
  },
  {
   "cell_type": "code",
   "execution_count": 19,
   "metadata": {
    "execution": {
     "iopub.execute_input": "2020-09-20T14:58:36.485204Z",
     "iopub.status.busy": "2020-09-20T14:58:36.484061Z",
     "iopub.status.idle": "2020-09-20T15:01:40.092305Z",
     "shell.execute_reply": "2020-09-20T15:01:40.091567Z"
    },
    "papermill": {
     "duration": 183.64958,
     "end_time": "2020-09-20T15:01:40.092477",
     "exception": false,
     "start_time": "2020-09-20T14:58:36.442897",
     "status": "completed"
    },
    "tags": []
   },
   "outputs": [
    {
     "name": "stdout",
     "output_type": "stream",
     "text": [
      "Train on 33600 samples, validate on 8400 samples\n",
      "Epoch 1/30\n",
      "33600/33600 [==============================] - 10s 303us/step - loss: 0.1527 - accuracy: 0.9531 - val_loss: 0.0903 - val_accuracy: 0.9715\n",
      "Epoch 2/30\n",
      "33600/33600 [==============================] - 6s 179us/step - loss: 0.0713 - accuracy: 0.9788 - val_loss: 0.0755 - val_accuracy: 0.9781\n",
      "Epoch 3/30\n",
      "33600/33600 [==============================] - 6s 171us/step - loss: 0.0625 - accuracy: 0.9816 - val_loss: 0.0670 - val_accuracy: 0.9827\n",
      "Epoch 4/30\n",
      "33600/33600 [==============================] - 6s 173us/step - loss: 0.0467 - accuracy: 0.9856 - val_loss: 0.0913 - val_accuracy: 0.9780\n",
      "Epoch 5/30\n",
      "33600/33600 [==============================] - 6s 172us/step - loss: 0.0487 - accuracy: 0.9856 - val_loss: 0.0599 - val_accuracy: 0.9854\n",
      "Epoch 6/30\n",
      "33600/33600 [==============================] - 6s 173us/step - loss: 0.0447 - accuracy: 0.9871 - val_loss: 0.0654 - val_accuracy: 0.9824\n",
      "Epoch 7/30\n",
      "33600/33600 [==============================] - 6s 175us/step - loss: 0.0366 - accuracy: 0.9898 - val_loss: 0.1000 - val_accuracy: 0.9830\n",
      "Epoch 8/30\n",
      "33600/33600 [==============================] - 6s 184us/step - loss: 0.0356 - accuracy: 0.9902 - val_loss: 0.0649 - val_accuracy: 0.9874\n",
      "Epoch 9/30\n",
      "33600/33600 [==============================] - 6s 172us/step - loss: 0.0405 - accuracy: 0.9896 - val_loss: 0.0593 - val_accuracy: 0.9869\n",
      "Epoch 10/30\n",
      "33600/33600 [==============================] - 7s 208us/step - loss: 0.0272 - accuracy: 0.9930 - val_loss: 0.0756 - val_accuracy: 0.9854\n",
      "Epoch 11/30\n",
      "33600/33600 [==============================] - 6s 181us/step - loss: 0.0403 - accuracy: 0.9903 - val_loss: 0.0847 - val_accuracy: 0.9837\n",
      "Epoch 12/30\n",
      "33600/33600 [==============================] - 6s 177us/step - loss: 0.0290 - accuracy: 0.9923 - val_loss: 0.0945 - val_accuracy: 0.9839\n",
      "Epoch 13/30\n",
      "33600/33600 [==============================] - 6s 176us/step - loss: 0.0315 - accuracy: 0.9930 - val_loss: 0.0966 - val_accuracy: 0.9843\n",
      "Epoch 14/30\n",
      "33600/33600 [==============================] - 6s 167us/step - loss: 0.0299 - accuracy: 0.9927 - val_loss: 0.1112 - val_accuracy: 0.9820\n",
      "Epoch 15/30\n",
      "33600/33600 [==============================] - 6s 182us/step - loss: 0.0338 - accuracy: 0.9929 - val_loss: 0.1248 - val_accuracy: 0.9811\n",
      "Epoch 16/30\n",
      "33600/33600 [==============================] - 6s 167us/step - loss: 0.0296 - accuracy: 0.9932 - val_loss: 0.1228 - val_accuracy: 0.9835\n",
      "Epoch 17/30\n",
      "33600/33600 [==============================] - 6s 179us/step - loss: 0.0330 - accuracy: 0.9931 - val_loss: 0.1454 - val_accuracy: 0.9817\n",
      "Epoch 18/30\n",
      "33600/33600 [==============================] - 6s 170us/step - loss: 0.0362 - accuracy: 0.9924 - val_loss: 0.1239 - val_accuracy: 0.9854\n",
      "Epoch 19/30\n",
      "33600/33600 [==============================] - 6s 173us/step - loss: 0.0274 - accuracy: 0.9949 - val_loss: 0.1242 - val_accuracy: 0.9849\n",
      "Epoch 20/30\n",
      "33600/33600 [==============================] - 6s 180us/step - loss: 0.0293 - accuracy: 0.9939 - val_loss: 0.1292 - val_accuracy: 0.9844\n",
      "Epoch 21/30\n",
      "33600/33600 [==============================] - 7s 200us/step - loss: 0.0264 - accuracy: 0.9951 - val_loss: 0.2087 - val_accuracy: 0.9792\n",
      "Epoch 22/30\n",
      "33600/33600 [==============================] - 6s 173us/step - loss: 0.0421 - accuracy: 0.9927 - val_loss: 0.1374 - val_accuracy: 0.9849\n",
      "Epoch 23/30\n",
      "33600/33600 [==============================] - 6s 179us/step - loss: 0.0360 - accuracy: 0.9940 - val_loss: 0.1401 - val_accuracy: 0.9815\n",
      "Epoch 24/30\n",
      "33600/33600 [==============================] - 6s 169us/step - loss: 0.0280 - accuracy: 0.9944 - val_loss: 0.1485 - val_accuracy: 0.9824\n",
      "Epoch 25/30\n",
      "33600/33600 [==============================] - 6s 172us/step - loss: 0.0370 - accuracy: 0.9939 - val_loss: 0.1340 - val_accuracy: 0.9856\n",
      "Epoch 26/30\n",
      "33600/33600 [==============================] - 6s 186us/step - loss: 0.0321 - accuracy: 0.9948 - val_loss: 0.1363 - val_accuracy: 0.9880\n",
      "Epoch 27/30\n",
      "33600/33600 [==============================] - 6s 168us/step - loss: 0.0318 - accuracy: 0.9948 - val_loss: 0.1631 - val_accuracy: 0.9852\n",
      "Epoch 28/30\n",
      "33600/33600 [==============================] - 6s 181us/step - loss: 0.0295 - accuracy: 0.9952 - val_loss: 0.1580 - val_accuracy: 0.9871\n",
      "Epoch 29/30\n",
      "33600/33600 [==============================] - 6s 168us/step - loss: 0.0301 - accuracy: 0.9950 - val_loss: 0.1457 - val_accuracy: 0.9862\n",
      "Epoch 30/30\n",
      "33600/33600 [==============================] - 6s 187us/step - loss: 0.0402 - accuracy: 0.9942 - val_loss: 0.1745 - val_accuracy: 0.9864\n"
     ]
    }
   ],
   "source": [
    "#and lets train the model!\n",
    "\n",
    "batch_size = 128\n",
    "epochs = 30\n",
    "val_proportion = 0.2\n",
    "\n",
    "history = model.fit(x = X_train, y = y_train, batch_size=30, epochs=epochs, verbose=1, validation_split = .2)"
   ]
  },
  {
   "cell_type": "markdown",
   "metadata": {
    "papermill": {
     "duration": 1.18942,
     "end_time": "2020-09-20T15:01:42.441604",
     "exception": false,
     "start_time": "2020-09-20T15:01:41.252184",
     "status": "completed"
    },
    "tags": []
   },
   "source": [
    "Now that we have trained the model a common step is to plot the process of the loss and the accuracy, for both the training and validation data set, to see the progress"
   ]
  },
  {
   "cell_type": "code",
   "execution_count": 20,
   "metadata": {
    "execution": {
     "iopub.execute_input": "2020-09-20T15:01:44.896419Z",
     "iopub.status.busy": "2020-09-20T15:01:44.894458Z",
     "iopub.status.idle": "2020-09-20T15:01:44.897100Z",
     "shell.execute_reply": "2020-09-20T15:01:44.897559Z"
    },
    "papermill": {
     "duration": 1.130431,
     "end_time": "2020-09-20T15:01:44.897684",
     "exception": false,
     "start_time": "2020-09-20T15:01:43.767253",
     "status": "completed"
    },
    "tags": []
   },
   "outputs": [],
   "source": [
    "history_dict = history.history"
   ]
  },
  {
   "cell_type": "code",
   "execution_count": 21,
   "metadata": {
    "execution": {
     "iopub.execute_input": "2020-09-20T15:01:47.234567Z",
     "iopub.status.busy": "2020-09-20T15:01:47.232461Z",
     "iopub.status.idle": "2020-09-20T15:01:47.235462Z",
     "shell.execute_reply": "2020-09-20T15:01:47.236036Z"
    },
    "papermill": {
     "duration": 1.143246,
     "end_time": "2020-09-20T15:01:47.236171",
     "exception": false,
     "start_time": "2020-09-20T15:01:46.092925",
     "status": "completed"
    },
    "tags": []
   },
   "outputs": [],
   "source": [
    "train_loss = history_dict['loss']\n",
    "val_loss = history_dict['val_loss']\n",
    "train_accuracy = history_dict['val_accuracy']\n",
    "val_accuracy  = history_dict['accuracy']\n"
   ]
  },
  {
   "cell_type": "code",
   "execution_count": 22,
   "metadata": {
    "execution": {
     "iopub.execute_input": "2020-09-20T15:01:49.700250Z",
     "iopub.status.busy": "2020-09-20T15:01:49.698413Z",
     "iopub.status.idle": "2020-09-20T15:01:49.875715Z",
     "shell.execute_reply": "2020-09-20T15:01:49.876282Z"
    },
    "papermill": {
     "duration": 1.388643,
     "end_time": "2020-09-20T15:01:49.876457",
     "exception": false,
     "start_time": "2020-09-20T15:01:48.487814",
     "status": "completed"
    },
    "tags": []
   },
   "outputs": [
    {
     "data": {
      "image/png": "[encoded data removed]",
      "text/plain": [
       "<Figure size 432x288 with 1 Axes>"
      ]
     },
     "metadata": {
      "needs_background": "light"
     },
     "output_type": "display_data"
    }
   ],
   "source": [
    "#first plot the loss \n",
    "\n",
    "plt.plot(train_loss, color= 'b',label='Train')\n",
    "plt.plot(val_loss,'r',label='Validation')\n",
    "\n",
    "plt.xlabel('Epoch')\n",
    "plt.ylabel('Loss')\n",
    "plt.legend()\n",
    "\n",
    "plt.title('Variation of \"Loss\" with epoch')\n",
    "\n",
    "plt.show()\n"
   ]
  },
  {
   "cell_type": "code",
   "execution_count": 23,
   "metadata": {
    "execution": {
     "iopub.execute_input": "2020-09-20T15:01:52.129076Z",
     "iopub.status.busy": "2020-09-20T15:01:52.127648Z",
     "iopub.status.idle": "2020-09-20T15:01:52.316263Z",
     "shell.execute_reply": "2020-09-20T15:01:52.316797Z"
    },
    "papermill": {
     "duration": 1.307187,
     "end_time": "2020-09-20T15:01:52.316949",
     "exception": false,
     "start_time": "2020-09-20T15:01:51.009762",
     "status": "completed"
    },
    "tags": []
   },
   "outputs": [
    {
     "data": {
      "image/png": "[encoded data removed]",
      "text/plain": [
       "<Figure size 432x288 with 1 Axes>"
      ]
     },
     "metadata": {
      "needs_background": "light"
     },
     "output_type": "display_data"
    }
   ],
   "source": [
    "#now plot the accuracy\n",
    "\n",
    "plt.plot(train_accuracy, color= 'b',label='Train')\n",
    "plt.plot(val_accuracy,'r',label='Validation')\n",
    "\n",
    "plt.xlabel('Epoch')\n",
    "plt.ylabel('Accuracy')\n",
    "plt.legend()\n",
    "\n",
    "plt.title('Variation of Accuracy with epoch')\n",
    "\n",
    "plt.show()"
   ]
  },
  {
   "cell_type": "markdown",
   "metadata": {
    "papermill": {
     "duration": 1.099886,
     "end_time": "2020-09-20T15:01:54.570077",
     "exception": false,
     "start_time": "2020-09-20T15:01:53.470191",
     "status": "completed"
    },
    "tags": []
   },
   "source": [
    "Validation Loss increasing whilst the Validation acuracy also increases suggests that all may not be as it seem. The model may be overfitting. This is worth checkin in more detail if we were to want to deploy this model.\n",
    "\n",
    "Since this is just a quick play around not going to dive into too much detail here!"
   ]
  },
  {
   "cell_type": "markdown",
   "metadata": {
    "papermill": {
     "duration": 1.093963,
     "end_time": "2020-09-20T15:01:56.772879",
     "exception": false,
     "start_time": "2020-09-20T15:01:55.678916",
     "status": "completed"
    },
    "tags": []
   },
   "source": [
    "# Now that we have trained the model we can use it to plot some predictions!"
   ]
  },
  {
   "cell_type": "code",
   "execution_count": 24,
   "metadata": {
    "execution": {
     "iopub.execute_input": "2020-09-20T15:01:59.135893Z",
     "iopub.status.busy": "2020-09-20T15:01:59.133056Z",
     "iopub.status.idle": "2020-09-20T15:02:00.608577Z",
     "shell.execute_reply": "2020-09-20T15:02:00.607512Z"
    },
    "papermill": {
     "duration": 2.593214,
     "end_time": "2020-09-20T15:02:00.608689",
     "exception": false,
     "start_time": "2020-09-20T15:01:58.015475",
     "status": "completed"
    },
    "tags": []
   },
   "outputs": [
    {
     "name": "stdout",
     "output_type": "stream",
     "text": [
      "28000/28000 [==============================] - 1s 51us/step\n"
     ]
    }
   ],
   "source": [
    "#make some predictions!\n",
    "predictions = model.predict_classes(X_test, verbose = 1)"
   ]
  },
  {
   "cell_type": "code",
   "execution_count": 25,
   "metadata": {
    "execution": {
     "iopub.execute_input": "2020-09-20T15:02:02.889989Z",
     "iopub.status.busy": "2020-09-20T15:02:02.889026Z",
     "iopub.status.idle": "2020-09-20T15:02:02.991845Z",
     "shell.execute_reply": "2020-09-20T15:02:02.990818Z"
    },
    "papermill": {
     "duration": 1.240414,
     "end_time": "2020-09-20T15:02:02.991973",
     "exception": false,
     "start_time": "2020-09-20T15:02:01.751559",
     "status": "completed"
    },
    "tags": []
   },
   "outputs": [],
   "source": [
    "#lets output these predictions in a form that can be submitted to kaggle - to see how well we do\n",
    "submissions=pd.DataFrame({\"ImageId\": list(range(1,len(predictions)+1)),\n",
    "                         \"Label\": predictions})\n",
    "submissions.to_csv(\"DR_predictions.csv\", index=False, header=True)"
   ]
  },
  {
   "cell_type": "markdown",
   "metadata": {
    "papermill": {
     "duration": 1.143839,
     "end_time": "2020-09-20T15:02:05.253525",
     "exception": false,
     "start_time": "2020-09-20T15:02:04.109686",
     "status": "completed"
    },
    "tags": []
   },
   "source": [
    "To have a bit of an extra investigation of what the predictions are like - lets plot some of the test data and get it against the predicted label"
   ]
  },
  {
   "cell_type": "code",
   "execution_count": 26,
   "metadata": {
    "execution": {
     "iopub.execute_input": "2020-09-20T15:02:07.514698Z",
     "iopub.status.busy": "2020-09-20T15:02:07.507242Z",
     "iopub.status.idle": "2020-09-20T15:02:07.837796Z",
     "shell.execute_reply": "2020-09-20T15:02:07.838396Z"
    },
    "papermill": {
     "duration": 1.468377,
     "end_time": "2020-09-20T15:02:07.838526",
     "exception": false,
     "start_time": "2020-09-20T15:02:06.370149",
     "status": "completed"
    },
    "tags": []
   },
   "outputs": [
    {
     "data": {
      "image/png": "[encoded data removed]",
      "text/plain": [
       "<Figure size 432x288 with 3 Axes>"
      ]
     },
     "metadata": {
      "needs_background": "light"
     },
     "output_type": "display_data"
    }
   ],
   "source": [
    "#need to 'undo' the reshape that we did earlier \n",
    "X_test = X_test.reshape(X_test.shape[0], 28, 28)\n",
    "\n",
    "#now plot\n",
    "for i in range (6,9):\n",
    "    plt.subplot(330 + (i+1)) #not exactly sure why this is how you get the subplot to work ... but just go with it\n",
    "    plt.imshow(X_test[i], cmap=plt.get_cmap('gray'))\n",
    "    plt.title('prediction: ' + str(predictions[i]))"
   ]
  },
  {
   "cell_type": "code",
   "execution_count": 27,
   "metadata": {
    "execution": {
     "iopub.execute_input": "2020-09-20T15:02:10.082621Z",
     "iopub.status.busy": "2020-09-20T15:02:10.081611Z",
     "iopub.status.idle": "2020-09-20T15:02:10.137063Z",
     "shell.execute_reply": "2020-09-20T15:02:10.136457Z"
    },
    "papermill": {
     "duration": 1.169473,
     "end_time": "2020-09-20T15:02:10.137184",
     "exception": false,
     "start_time": "2020-09-20T15:02:08.967711",
     "status": "completed"
    },
    "tags": []
   },
   "outputs": [],
   "source": [
    "model.save('digit-recogniser-model')"
   ]
  }
 ],
 "metadata": {
  "kernelspec": {
   "display_name": "Python 3",
   "language": "python",
   "name": "python3"
  },
  "language_info": {
   "codemirror_mode": {
    "name": "ipython",
    "version": 3
   },
   "file_extension": ".py",
   "mimetype": "text/x-python",
   "name": "python",
   "nbconvert_exporter": "python",
   "pygments_lexer": "ipython3",
   "version": "3.7.6"
  },
  "papermill": {
   "duration": 243.16313,
   "end_time": "2020-09-20T15:02:13.129730",
   "environment_variables": {},
   "exception": null,
   "input_path": "__notebook__.ipynb",
   "output_path": "__notebook__.ipynb",
   "parameters": {},
   "start_time": "2020-09-20T14:58:09.966600",
   "version": "2.1.0"
  }
 },
 "nbformat": 4,
 "nbformat_minor": 4
}
